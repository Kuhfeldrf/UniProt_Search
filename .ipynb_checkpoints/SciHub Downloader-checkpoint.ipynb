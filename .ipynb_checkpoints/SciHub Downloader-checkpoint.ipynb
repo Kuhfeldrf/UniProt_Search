{
 "cells": [
  {
   "cell_type": "markdown",
   "id": "1ef8b2d1",
   "metadata": {},
   "source": [
    "# Import and define functions"
   ]
  },
  {
   "cell_type": "markdown",
   "id": "e649b40a",
   "metadata": {},
   "source": [
    "Imports libraries"
   ]
  },
  {
   "cell_type": "code",
   "execution_count": 31,
   "id": "9e121e59",
   "metadata": {},
   "outputs": [],
   "source": [
    "import requests\n",
    "import pandas as pd\n",
    "import re\n",
    "import os\n",
    "import string\n",
    "from bs4 import BeautifulSoup as bs"
   ]
  },
  {
   "cell_type": "markdown",
   "id": "ba7861d6",
   "metadata": {},
   "source": [
    "<b>Function:</b> Extract the download link from the Sci-Hub page using the save button's onclick event"
   ]
  },
  {
   "cell_type": "code",
   "execution_count": 32,
   "id": "cb2d11f0",
   "metadata": {},
   "outputs": [],
   "source": [
    "# Defining the necessary functions from sci_hub.py to integrate into our main function\n",
    "\n",
    "def get_links(target):\n",
    "    \"\"\"Extract the download link from the Sci-Hub page using the save button's onclick event.\"\"\"\n",
    "    response = requests.get(target)\n",
    "    soup = bs(response.content, \"lxml\")\n",
    "    \n",
    "    try:\n",
    "        # Find the button with the download link\n",
    "        button = soup.find(\"button\", onclick=True)\n",
    "        onclick_content = button['onclick']\n",
    "        mirror = re.search(r\"location.href='(.*?)'\", onclick_content).group(1)\n",
    "        if mirror.startswith('//'):\n",
    "            mirror = 'https:' + mirror\n",
    "    except Exception:\n",
    "        print(\"Mirror not found\")\n",
    "        mirror = \"\"\n",
    "        \n",
    "    try:\n",
    "        doi = soup.title.text.split(\"|\")[-1].strip()\n",
    "    except Exception:\n",
    "        print(\"DOI not found\")\n",
    "        doi = \"\"\n",
    "        \n",
    "    return doi, mirror\n"
   ]
  },
  {
   "cell_type": "markdown",
   "id": "ce0c9122",
   "metadata": {},
   "source": [
    "<b>Function:</b> Download paper from the mirror URL and save it with the title as filename."
   ]
  },
  {
   "cell_type": "code",
   "execution_count": 33,
   "id": "d59923a5",
   "metadata": {},
   "outputs": [],
   "source": [
    "def download_paper(mirror_url, title):\n",
    "    \"\"\"\n",
    "    Download paper from the mirror URL and save it with the title as filename.\n",
    "    \"\"\"\n",
    "    try:\n",
    "        # Ensure the URL starts with https://\n",
    "        if not mirror_url.startswith('http'):\n",
    "            mirror_url = 'https:' + mirror_url\n",
    "            \n",
    "        response = requests.get(mirror_url, stream=True)\n",
    "        # Create a valid filename from the title\n",
    "        file_name = valid_file_name(title) + \".pdf\"\n",
    "        with open(file_name, 'wb') as f:\n",
    "            for chunk in response.iter_content(chunk_size=8192):\n",
    "                f.write(chunk)\n",
    "        print(f\"Downloaded {file_name}\")\n",
    "        return file_name\n",
    "    except Exception as e:\n",
    "        print(f\"Failed to download. Error: {e}\")\n",
    "        return None"
   ]
  },
  {
   "cell_type": "markdown",
   "id": "fc4abc24",
   "metadata": {},
   "source": [
    "<b>Function:</b> Remove any invalid characters from the title to make it a valid filename."
   ]
  },
  {
   "cell_type": "code",
   "execution_count": 34,
   "id": "631c4ddf",
   "metadata": {},
   "outputs": [],
   "source": [
    "def valid_file_name(title):\n",
    "    \"\"\"\n",
    "    Remove any invalid characters from the title to make it a valid filename.\n",
    "    \"\"\"\n",
    "    valid_chars = \"-_.() %s%s\" % (string.ascii_letters, string.digits)\n",
    "    return ''.join(c for c in title if c in valid_chars)\n"
   ]
  },
  {
   "cell_type": "markdown",
   "id": "d27f9656",
   "metadata": {},
   "source": [
    "<b>Function:</b> Downloads papers from SciHub based on DOI column in supplied df"
   ]
  },
  {
   "cell_type": "code",
   "execution_count": 38,
   "id": "66660574",
   "metadata": {},
   "outputs": [],
   "source": [
    "# Updated main function to include the renaming process\n",
    "def download_papers_from_df(df, doi_column, title_column):\n",
    "    \"\"\"\n",
    "    Downloads papers from SciHub based on DOI column in supplied df\n",
    "    \"\"\"\n",
    "    base_url = \"https://sci-hub.se/\"\n",
    "    downloaded_files = []\n",
    "    \n",
    "    for index, row in df.iterrows():\n",
    "        # Check if the DOI value is a string\n",
    "        if isinstance(row[doi_column], str):\n",
    "            target_url = base_url + row[doi_column]\n",
    "            doi, mirror = get_links(target_url)\n",
    "            if mirror:\n",
    "                file_name = download_paper(mirror, row[title_column])\n",
    "                if file_name:\n",
    "                    downloaded_files.append(file_name)\n",
    "        else:\n",
    "            print(f\"Skipping row {index} due to missing or invalid DOI/Title.\")\n",
    "                \n",
    "    return downloaded_files"
   ]
  },
  {
   "cell_type": "markdown",
   "id": "7186cb96",
   "metadata": {},
   "source": [
    "# Imports title and DOI lists from CSV"
   ]
  },
  {
   "cell_type": "markdown",
   "id": "64a12ad7",
   "metadata": {},
   "source": [
    "Import dataframes containing doi and title of papters of interest from CSV"
   ]
  },
  {
   "cell_type": "code",
   "execution_count": 36,
   "id": "a0a49903",
   "metadata": {},
   "outputs": [
    {
     "data": {
      "text/html": [
       "<div>\n",
       "<style scoped>\n",
       "    .dataframe tbody tr th:only-of-type {\n",
       "        vertical-align: middle;\n",
       "    }\n",
       "\n",
       "    .dataframe tbody tr th {\n",
       "        vertical-align: top;\n",
       "    }\n",
       "\n",
       "    .dataframe thead th {\n",
       "        text-align: right;\n",
       "    }\n",
       "</style>\n",
       "<table border=\"1\" class=\"dataframe\">\n",
       "  <thead>\n",
       "    <tr style=\"text-align: right;\">\n",
       "      <th></th>\n",
       "      <th>title</th>\n",
       "      <th>authors</th>\n",
       "      <th>doi</th>\n",
       "      <th>pubmed_id</th>\n",
       "      <th>abstract</th>\n",
       "    </tr>\n",
       "  </thead>\n",
       "  <tbody>\n",
       "    <tr>\n",
       "      <th>0</th>\n",
       "      <td>Potassium efflux induced by a new lactoferrin-...</td>\n",
       "      <td>Viejo-Diaz, M. et al.</td>\n",
       "      <td>10.1023/a:1022657630698</td>\n",
       "      <td>12693969.0</td>\n",
       "      <td>A 31-amino acid synthetic peptide (NH(2)-FFSAS...</td>\n",
       "    </tr>\n",
       "    <tr>\n",
       "      <th>1</th>\n",
       "      <td>Isolation and characterization of opioid antag...</td>\n",
       "      <td>Tani, F. et al.</td>\n",
       "      <td>10.1271/bbb1961.54.1803</td>\n",
       "      <td>1369293.0</td>\n",
       "      <td>Peptides with affinity for opioid receptors we...</td>\n",
       "    </tr>\n",
       "    <tr>\n",
       "      <th>2</th>\n",
       "      <td>Isolation and characterization of opioid antag...</td>\n",
       "      <td>Tani, F. et al.</td>\n",
       "      <td>10.1271/bbb1961.54.1803</td>\n",
       "      <td>1369293.0</td>\n",
       "      <td>Peptides with affinity for opioid receptors we...</td>\n",
       "    </tr>\n",
       "    <tr>\n",
       "      <th>3</th>\n",
       "      <td>Isolation and characterization of opioid antag...</td>\n",
       "      <td>Tani, F. et al.</td>\n",
       "      <td>10.1271/bbb1961.54.1803</td>\n",
       "      <td>1369293.0</td>\n",
       "      <td>Peptides with affinity for opioid receptors we...</td>\n",
       "    </tr>\n",
       "    <tr>\n",
       "      <th>4</th>\n",
       "      <td>Effects of 'casoparan', a peptide isolated fro...</td>\n",
       "      <td>Lebrun, I. et al.</td>\n",
       "      <td>10.1080/09629350400003068</td>\n",
       "      <td>15545057.0</td>\n",
       "      <td>Casein, a protein found in milk of several spe...</td>\n",
       "    </tr>\n",
       "  </tbody>\n",
       "</table>\n",
       "</div>"
      ],
      "text/plain": [
       "                                               title                authors  \\\n",
       "0  Potassium efflux induced by a new lactoferrin-...  Viejo-Diaz, M. et al.   \n",
       "1  Isolation and characterization of opioid antag...        Tani, F. et al.   \n",
       "2  Isolation and characterization of opioid antag...        Tani, F. et al.   \n",
       "3  Isolation and characterization of opioid antag...        Tani, F. et al.   \n",
       "4  Effects of 'casoparan', a peptide isolated fro...      Lebrun, I. et al.   \n",
       "\n",
       "                         doi   pubmed_id  \\\n",
       "0    10.1023/a:1022657630698  12693969.0   \n",
       "1    10.1271/bbb1961.54.1803   1369293.0   \n",
       "2    10.1271/bbb1961.54.1803   1369293.0   \n",
       "3    10.1271/bbb1961.54.1803   1369293.0   \n",
       "4  10.1080/09629350400003068  15545057.0   \n",
       "\n",
       "                                            abstract  \n",
       "0  A 31-amino acid synthetic peptide (NH(2)-FFSAS...  \n",
       "1  Peptides with affinity for opioid receptors we...  \n",
       "2  Peptides with affinity for opioid receptors we...  \n",
       "3  Peptides with affinity for opioid receptors we...  \n",
       "4  Casein, a protein found in milk of several spe...  "
      ]
     },
     "execution_count": 36,
     "metadata": {},
     "output_type": "execute_result"
    }
   ],
   "source": [
    "publication_info = pd.read_csv('publication_info.csv')\n",
    "publication_info.head()"
   ]
  },
  {
   "cell_type": "markdown",
   "id": "97c0f9ea",
   "metadata": {},
   "source": [
    "# Downloads pdfs from SciHub"
   ]
  },
  {
   "cell_type": "markdown",
   "id": "ba8bfd29",
   "metadata": {},
   "source": [
    "Downloads the PDFs to your parent directory based on DOI # or Title of the publications."
   ]
  },
  {
   "cell_type": "code",
   "execution_count": 37,
   "id": "5b20b7d5",
   "metadata": {},
   "outputs": [
    {
     "name": "stdout",
     "output_type": "stream",
     "text": [
      "Downloaded Potassium efflux induced by a new lactoferrin-derived peptide mimicking the effect of native human lactoferrin on the bacterial cytoplasmic membrane..pdf\n",
      "Downloaded Isolation and characterization of opioid antagonist peptides derived from human lactoferrin..pdf\n",
      "Downloaded Isolation and characterization of opioid antagonist peptides derived from human lactoferrin..pdf\n",
      "Downloaded Isolation and characterization of opioid antagonist peptides derived from human lactoferrin..pdf\n",
      "Failed to download. Error: Invalid URL 'https:/downloads/2019-01-29//be/lebrun2004.pdf?download=true': No host supplied\n",
      "Downloaded Isolation and characterization of a new bradykinin potentiating octapeptide from gamma-casein..pdf\n",
      "Downloaded Biochemical and pharmacological aspects of two bradykinin-potentiating peptides obtained from tryptic hydrolysis of casein..pdf\n",
      "Downloaded Casocidin-I a casein-alpha s2 derived peptide exhibits antibacterial activity..pdf\n",
      "Mirror not found\n",
      "Downloaded Identification of the bactericidal domain of lactoferrin..pdf\n",
      "Skipping row 10 due to missing or invalid DOI.\n",
      "Skipping row 11 due to missing or invalid DOI.\n"
     ]
    }
   ],
   "source": [
    "downloaded_files = download_papers_from_df(publication_info, 'doi', 'title')"
   ]
  }
 ],
 "metadata": {
  "kernelspec": {
   "display_name": "Python 3 (ipykernel)",
   "language": "python",
   "name": "python3"
  },
  "language_info": {
   "codemirror_mode": {
    "name": "ipython",
    "version": 3
   },
   "file_extension": ".py",
   "mimetype": "text/x-python",
   "name": "python",
   "nbconvert_exporter": "python",
   "pygments_lexer": "ipython3",
   "version": "3.9.7"
  }
 },
 "nbformat": 4,
 "nbformat_minor": 5
}
